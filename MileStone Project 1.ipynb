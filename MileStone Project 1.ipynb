{
 "cells": [
  {
   "cell_type": "code",
   "execution_count": 1,
   "metadata": {},
   "outputs": [],
   "source": [
    "from IPython.display import clear_output\n",
    "\n",
    "def display_board(board):\n",
    "    print(board[7]+'|'+board[8]+'|'+board[9])\n",
    "    print(board[4]+'|'+board[5]+'|'+board[6])\n",
    "    print(board[1]+'|'+board[2]+'|'+board[3])"
   ]
  },
  {
   "cell_type": "code",
   "execution_count": 2,
   "metadata": {},
   "outputs": [
    {
     "name": "stdout",
     "output_type": "stream",
     "text": [
      "X|O|X\n",
      "O|X|O\n",
      "X|O|X\n"
     ]
    }
   ],
   "source": [
    "test_board = ['#','X','O','X','O','X','O','X','O','X']\n",
    "display_board(test_board)"
   ]
  },
  {
   "cell_type": "code",
   "execution_count": 3,
   "metadata": {},
   "outputs": [],
   "source": [
    "def player_input():\n",
    "    '''\n",
    "    Output =(Player 1 Marker, Player 2 Marker)\n",
    "    '''\n",
    "    marker=''\n",
    "    while marker !='X' and marker !='O':\n",
    "        marker = input('Player1: Please Choose X or O: ').upper()\n",
    "    if marker =='X':\n",
    "        return ('X','O')\n",
    "    else:\n",
    "        return ('O','X')\n",
    "    "
   ]
  },
  {
   "cell_type": "code",
   "execution_count": 4,
   "metadata": {},
   "outputs": [],
   "source": [
    "def place_marker(board,marker,position):\n",
    "    board[position]=marker"
   ]
  },
  {
   "cell_type": "code",
   "execution_count": 5,
   "metadata": {},
   "outputs": [
    {
     "name": "stdout",
     "output_type": "stream",
     "text": [
      "X|$|X\n",
      "O|X|O\n",
      "X|O|X\n"
     ]
    }
   ],
   "source": [
    "place_marker(test_board,'$',8)\n",
    "display_board(test_board)"
   ]
  },
  {
   "cell_type": "code",
   "execution_count": 6,
   "metadata": {},
   "outputs": [],
   "source": [
    "def win_check(board, mark):\n",
    "    #win tic tac toe?\n",
    "    \n",
    "    #all rows and check if they all share the same  marker  \n",
    "    #all columsn check to see if marker matches\n",
    "    #2 diagonals to check\n",
    "    return((board[7]== board[8]==board[9]== mark) or  #Top Line horizontal\n",
    "    (board[4]== board[5]==board[6]== mark) or # Middle line horizontal\n",
    "    (board[1]== board[2]==board[3]== mark) or # Bottom Line horizontal\n",
    "    (board[7]== board[4]==board[1]== mark) or # First col\n",
    "    (board[8]== board[5]==board[2]== mark) or # Middle col\n",
    "    (board[9]== board[6]==board[3]== mark) or # Last col\n",
    "    (board[7]== board[5]==board[3]== mark) or # Diag 1\n",
    "    (board[9]== board[5]==board[1]== mark))  # Diag 2\n",
    "    \n"
   ]
  },
  {
   "cell_type": "code",
   "execution_count": 7,
   "metadata": {},
   "outputs": [
    {
     "name": "stdout",
     "output_type": "stream",
     "text": [
      "X|$|X\n",
      "O|X|O\n",
      "X|O|X\n"
     ]
    },
    {
     "data": {
      "text/plain": [
       "True"
      ]
     },
     "execution_count": 7,
     "metadata": {},
     "output_type": "execute_result"
    }
   ],
   "source": [
    "display_board(test_board)\n",
    "win_check(test_board,'X')"
   ]
  },
  {
   "cell_type": "code",
   "execution_count": 8,
   "metadata": {},
   "outputs": [],
   "source": [
    "import random\n",
    "\n",
    "def choose_first():\n",
    "    if random.randint(0, 1) == 0:\n",
    "        return 'Player 2'\n",
    "    else:\n",
    "        return 'Player 1'"
   ]
  },
  {
   "cell_type": "code",
   "execution_count": 13,
   "metadata": {},
   "outputs": [],
   "source": [
    "def space_check(board,position):\n",
    "    return board[position] == ' '"
   ]
  },
  {
   "cell_type": "code",
   "execution_count": 10,
   "metadata": {},
   "outputs": [],
   "source": [
    "def full_board_check(board):\n",
    "    for i in range(1,10):\n",
    "        if space_check(board,i):\n",
    "            return False\n",
    "    return True"
   ]
  },
  {
   "cell_type": "code",
   "execution_count": 17,
   "metadata": {},
   "outputs": [],
   "source": [
    "def player_choice(board, turn):\n",
    "    position=0\n",
    "    while position not in [1,2,3,4,5,6,7,8,9] or not space_check(board,position):\n",
    "        position = int(input(turn + ' Choose a position: (1-9) '))\n",
    "    return position"
   ]
  },
  {
   "cell_type": "code",
   "execution_count": 18,
   "metadata": {},
   "outputs": [],
   "source": [
    "def replay():\n",
    "    return  input(\"Play again? Enter y for Yes or N for No\").lower().startswith('y')"
   ]
  },
  {
   "cell_type": "code",
   "execution_count": 19,
   "metadata": {},
   "outputs": [
    {
     "name": "stdout",
     "output_type": "stream",
     "text": [
      "Welcome to tic tac toe\n",
      "Player1: Please Choose X or O: O\n",
      "Player 1 will go first\n",
      "Ready to play?  y or n? y\n",
      " | | \n",
      " | | \n",
      " | | \n",
      "Player 1 Choose a position: (1-9) 5\n",
      " | | \n",
      " |O| \n",
      " | | \n",
      "Player 2 Choose a position: (1-9) 7\n",
      "X| | \n",
      " |O| \n",
      " | | \n",
      "Player 1 Choose a position: (1-9) 3\n",
      "X| | \n",
      " |O| \n",
      " | |O\n",
      "Player 2 Choose a position: (1-9) 1\n",
      "X| | \n",
      " |O| \n",
      "X| |O\n",
      "Player 1 Choose a position: (1-9) 4\n",
      "X| | \n",
      "O|O| \n",
      "X| |O\n",
      "Player 2 Choose a position: (1-9) 6\n",
      "X| | \n",
      "O|O|X\n",
      "X| |O\n",
      "Player 1 Choose a position: (1-9) 2\n",
      "X| | \n",
      "O|O|X\n",
      "X|O|O\n",
      "Player 2 Choose a position: (1-9) 8\n",
      "X|X| \n",
      "O|O|X\n",
      "X|O|O\n",
      "Player 1 Choose a position: (1-9) 9\n",
      "X|X|O\n",
      "O|O|X\n",
      "X|O|O\n",
      "Tie game\n",
      "Play again? Enter y for Yes or N for Non\n"
     ]
    }
   ],
   "source": [
    "# while loop to keep runnign the game\n",
    "print('Welcome to tic tac toe')\n",
    "while True:\n",
    "    #play the game\n",
    "    \n",
    "    ##set board ( borad, who is first, choose markers)\n",
    "    the_board =[' ']*10\n",
    "    player1_marker, player2_marker = player_input()\n",
    "    \n",
    "    turn = choose_first()\n",
    "    print(turn + ' will go first')\n",
    "    \n",
    "    play_game = input('Ready to play?  y or n? ')\n",
    "    if play_game.lower()[0]=='y':\n",
    "        game_on=True\n",
    "    else:\n",
    "        game_on=False\n",
    "        \n",
    "    \n",
    "    ##game play\n",
    "    while game_on:\n",
    "        if turn== 'Player 1':\n",
    "        \n",
    "            ##player 1st turn\n",
    "            #show board\n",
    "            display_board(the_board)\n",
    "            \n",
    "            # choose a position\n",
    "            position = player_choice(the_board, turn)\n",
    "            \n",
    "            #Place the marker on the position chosen\n",
    "            place_marker(the_board,player1_marker,position)\n",
    "            \n",
    "            #check if they won\n",
    "            if win_check(the_board,player1_marker):\n",
    "                display_board(the_board)\n",
    "                print('Player 1 has won')\n",
    "                game_on= False\n",
    "            else:\n",
    "                 #or check if there is a tie\n",
    "                if full_board_check(the_board):\n",
    "                    display_board(the_board)\n",
    "                    print(\"Tie game\")\n",
    "                    game_on=False\n",
    "                    break\n",
    "                else:\n",
    "                    #no tie or win ? then next player turn\n",
    "                    turn='Player 2'\n",
    "\n",
    "        else:\n",
    "        #player 2 turn\n",
    "        #show board\n",
    "            display_board(the_board)\n",
    "            \n",
    "            # choose a position\n",
    "            position = player_choice(the_board,turn)\n",
    "            \n",
    "            #Place the marker on the position chosen\n",
    "            place_marker(the_board,player2_marker,position)\n",
    "            \n",
    "            #check if they won\n",
    "            if win_check(the_board,player2_marker):\n",
    "                display_board(the_board)\n",
    "                print('Player 2 has won')\n",
    "                game_on= False\n",
    "            else:\n",
    "                if full_board_check(the_board):\n",
    "                    display_board(the_board)\n",
    "                    print(\"Tie game\")\n",
    "                    game_on=False\n",
    "                    break\n",
    "                else:\n",
    "                    turn='Player 1'\n",
    "    \n",
    "    if not replay():\n",
    "        break\n",
    "\n",
    "\n",
    "#break out of the while loop on replay()"
   ]
  },
  {
   "cell_type": "code",
   "execution_count": null,
   "metadata": {},
   "outputs": [],
   "source": []
  }
 ],
 "metadata": {
  "kernelspec": {
   "display_name": "Python 3",
   "language": "python",
   "name": "python3"
  },
  "language_info": {
   "codemirror_mode": {
    "name": "ipython",
    "version": 3
   },
   "file_extension": ".py",
   "mimetype": "text/x-python",
   "name": "python",
   "nbconvert_exporter": "python",
   "pygments_lexer": "ipython3",
   "version": "3.7.6"
  }
 },
 "nbformat": 4,
 "nbformat_minor": 4
}
